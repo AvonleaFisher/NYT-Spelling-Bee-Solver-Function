{
 "cells": [
  {
   "cell_type": "markdown",
   "metadata": {},
   "source": [
    "# NYT Spelling Bee Solver Function"
   ]
  },
  {
   "cell_type": "markdown",
   "metadata": {},
   "source": [
    "## Loading and Previewing the Word List"
   ]
  },
  {
   "cell_type": "code",
   "execution_count": 205,
   "metadata": {},
   "outputs": [],
   "source": [
    "word_file = open(\"/Users/avonleafisher/Desktop/words.txt\", \"r\") #replace with your own file path\n",
    "\n",
    "wordlist = []\n",
    "for word in word_file:\n",
    "        wordlist.append(str(word).lower()[:-1])"
   ]
  },
  {
   "cell_type": "code",
   "execution_count": 210,
   "metadata": {},
   "outputs": [
    {
     "data": {
      "text/plain": [
       "['a',\n",
       " 'aaa',\n",
       " 'aaas',\n",
       " 'aardvark',\n",
       " 'aarhus',\n",
       " 'aaron',\n",
       " 'aba',\n",
       " 'ababa',\n",
       " 'aback',\n",
       " 'abacus']"
      ]
     },
     "execution_count": 210,
     "metadata": {},
     "output_type": "execute_result"
    }
   ],
   "source": [
    "wordlist[0:10]"
   ]
  },
  {
   "cell_type": "code",
   "execution_count": 211,
   "metadata": {},
   "outputs": [
    {
     "data": {
      "text/plain": [
       "25487"
      ]
     },
     "execution_count": 211,
     "metadata": {},
     "output_type": "execute_result"
    }
   ],
   "source": [
    "len(wordlist)"
   ]
  },
  {
   "cell_type": "markdown",
   "metadata": {},
   "source": [
    "## Defining the Solver Function"
   ]
  },
  {
   "cell_type": "code",
   "execution_count": 208,
   "metadata": {},
   "outputs": [],
   "source": [
    "def solve_spelling_bee(letters_list, center_letter):\n",
    "    \n",
    "    '''Takes in a list of strings for letters_list and a single character string for center_letter.\n",
    "       Returns a list of words from a copy of wordlist whose length is at least 4, '''\n",
    "    \n",
    "    alphabet = ['a', 'b', 'c', 'd', 'e', 'f', 'g', 'h', 'i', 'j',\n",
    "                'k', 'l', 'm', 'n', 'o', 'p', 'q', 'r', 's', 't', \n",
    "                'u', 'v', 'w', 'x', 'y', 'z']\n",
    "    \n",
    "    unacceptable_letters = [l for l in alphabet if l not in letters_list]\n",
    "    acceptable_words = []\n",
    "    \n",
    "    for word in wordlist:\n",
    "        if center_letter in word:\n",
    "            if word not in acceptable_words:\n",
    "                if len(word) > 3:\n",
    "                    if any(l in unacceptable_letters for l in word) == False:\n",
    "                        acceptable_words.append(word)\n",
    "                        \n",
    "    return acceptable_words"
   ]
  },
  {
   "cell_type": "markdown",
   "metadata": {},
   "source": [
    "## Testing the Function"
   ]
  },
  {
   "cell_type": "code",
   "execution_count": 209,
   "metadata": {},
   "outputs": [
    {
     "data": {
      "text/plain": [
       "['alai',\n",
       " 'alan',\n",
       " 'alfalfa',\n",
       " 'alia',\n",
       " 'alicia',\n",
       " 'allan',\n",
       " 'annal',\n",
       " 'annual',\n",
       " 'annul',\n",
       " 'annuli',\n",
       " 'calculi',\n",
       " 'calf',\n",
       " 'call',\n",
       " 'calla',\n",
       " 'canal',\n",
       " 'cilia',\n",
       " 'clan',\n",
       " 'cliff',\n",
       " 'clinic',\n",
       " 'clinician',\n",
       " 'cull',\n",
       " 'facial',\n",
       " 'fail',\n",
       " 'fall',\n",
       " 'fanciful',\n",
       " 'faunal',\n",
       " 'filial',\n",
       " 'fill',\n",
       " 'final',\n",
       " 'financial',\n",
       " 'finial',\n",
       " 'flail',\n",
       " 'flan',\n",
       " 'fluff',\n",
       " 'fulfill',\n",
       " 'full',\n",
       " 'iliac',\n",
       " \"i'll\",\n",
       " 'lacuna',\n",
       " 'lain',\n",
       " 'lana',\n",
       " 'liana',\n",
       " 'lila',\n",
       " 'lilac',\n",
       " 'lilian',\n",
       " 'lillian',\n",
       " 'lucia',\n",
       " 'lucian',\n",
       " 'lull',\n",
       " 'lulu',\n",
       " 'nail',\n",
       " 'null',\n",
       " 'ucla',\n",
       " 'ulan',\n",
       " 'ulna']"
      ]
     },
     "execution_count": 209,
     "metadata": {},
     "output_type": "execute_result"
    }
   ],
   "source": [
    "letters_list = ['a', 'c', 'n', 'l', 'i', 'f', 'u']\n",
    "center_letter = 'l'\n",
    "solve_spelling_bee(letters_list, center_letter)"
   ]
  }
 ],
 "metadata": {
  "kernelspec": {
   "display_name": "Python 3",
   "language": "python",
   "name": "python3"
  },
  "language_info": {
   "codemirror_mode": {
    "name": "ipython",
    "version": 3
   },
   "file_extension": ".py",
   "mimetype": "text/x-python",
   "name": "python",
   "nbconvert_exporter": "python",
   "pygments_lexer": "ipython3",
   "version": "3.6.9"
  }
 },
 "nbformat": 4,
 "nbformat_minor": 2
}
